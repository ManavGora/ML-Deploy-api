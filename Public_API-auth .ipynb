{
 "cells": [
  {
   "cell_type": "code",
   "execution_count": 7,
   "id": "30f16743",
   "metadata": {},
   "outputs": [],
   "source": [
    "import json\n",
    "import requests"
   ]
  },
  {
   "cell_type": "code",
   "execution_count": 13,
   "id": "746aa0e1",
   "metadata": {},
   "outputs": [],
   "source": [
    "url = 'https://cc3e-125-21-249-98.ngrok-free.app/diabetes_prediction'"
   ]
  },
  {
   "cell_type": "code",
   "execution_count": 14,
   "id": "c29bcdde",
   "metadata": {},
   "outputs": [],
   "source": [
    "input_data_for_model = {\n",
    "    'Pregnancies' : 6,\n",
    "    'Glucose' : 148, \n",
    "    'BloodPressure' : 72,\n",
    "    'SkinThickness' : 35,\n",
    "    'Insulin' : 0,\n",
    "    'BMI' : 33.6,\n",
    "    'DiabetesPedigreeFunction' : 0.627,\n",
    "    'Age' : 50\n",
    "}\n",
    "\n",
    "# the output was \"the person is diabetic\""
   ]
  },
  {
   "cell_type": "code",
   "execution_count": 15,
   "id": "04cd07fc",
   "metadata": {},
   "outputs": [],
   "source": [
    "input_json = json.dumps(input_data_for_model)"
   ]
  },
  {
   "cell_type": "code",
   "execution_count": 16,
   "id": "308ae16b",
   "metadata": {},
   "outputs": [],
   "source": [
    "response = requests.post(url, data = input_json)"
   ]
  },
  {
   "cell_type": "code",
   "execution_count": 17,
   "id": "d5399b47",
   "metadata": {},
   "outputs": [
    {
     "name": "stdout",
     "output_type": "stream",
     "text": [
      "\"The person is diabetic\"\n"
     ]
    }
   ],
   "source": [
    "print(response.text)"
   ]
  },
  {
   "cell_type": "code",
   "execution_count": null,
   "id": "e5781212",
   "metadata": {},
   "outputs": [],
   "source": []
  },
  {
   "cell_type": "code",
   "execution_count": null,
   "id": "731be3af",
   "metadata": {},
   "outputs": [],
   "source": []
  },
  {
   "cell_type": "code",
   "execution_count": null,
   "id": "73e421fe",
   "metadata": {},
   "outputs": [],
   "source": []
  },
  {
   "cell_type": "code",
   "execution_count": null,
   "id": "1b295c28",
   "metadata": {},
   "outputs": [],
   "source": []
  },
  {
   "cell_type": "code",
   "execution_count": null,
   "id": "07d1d239",
   "metadata": {},
   "outputs": [],
   "source": []
  },
  {
   "cell_type": "code",
   "execution_count": null,
   "id": "9d1e1014",
   "metadata": {},
   "outputs": [],
   "source": []
  },
  {
   "cell_type": "code",
   "execution_count": null,
   "id": "646bc369",
   "metadata": {},
   "outputs": [],
   "source": []
  },
  {
   "cell_type": "code",
   "execution_count": null,
   "id": "5da929c5",
   "metadata": {},
   "outputs": [],
   "source": []
  },
  {
   "cell_type": "code",
   "execution_count": null,
   "id": "f90bb751",
   "metadata": {},
   "outputs": [],
   "source": []
  },
  {
   "cell_type": "code",
   "execution_count": null,
   "id": "2f85b55d",
   "metadata": {},
   "outputs": [],
   "source": []
  },
  {
   "cell_type": "code",
   "execution_count": null,
   "id": "1eebe021",
   "metadata": {},
   "outputs": [],
   "source": []
  },
  {
   "cell_type": "code",
   "execution_count": null,
   "id": "11b3d798",
   "metadata": {},
   "outputs": [],
   "source": []
  },
  {
   "cell_type": "code",
   "execution_count": null,
   "id": "fa5c90ae",
   "metadata": {},
   "outputs": [],
   "source": []
  }
 ],
 "metadata": {
  "kernelspec": {
   "display_name": "Python 3 (ipykernel)",
   "language": "python",
   "name": "python3"
  },
  "language_info": {
   "codemirror_mode": {
    "name": "ipython",
    "version": 3
   },
   "file_extension": ".py",
   "mimetype": "text/x-python",
   "name": "python",
   "nbconvert_exporter": "python",
   "pygments_lexer": "ipython3",
   "version": "3.10.9"
  }
 },
 "nbformat": 4,
 "nbformat_minor": 5
}
